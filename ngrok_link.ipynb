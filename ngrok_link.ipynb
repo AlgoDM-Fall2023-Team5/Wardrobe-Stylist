{
 "cells": [
  {
   "cell_type": "code",
   "execution_count": 1,
   "metadata": {},
   "outputs": [],
   "source": [
    "from pyngrok import ngrok\n",
    "from fastapi.middleware.cors import CORSMiddleware\n",
    "import nest_asyncio\n",
    "import uvicorn\n",
    "from bs4 import BeautifulSoup\n",
    "import requests\n",
    "import time\n"
   ]
  },
  {
   "cell_type": "code",
   "execution_count": 2,
   "metadata": {},
   "outputs": [],
   "source": [
    "def fetch_product_info(base_url):\n",
    "    # print(keywords)\n",
    "    \n",
    "\n",
    "    headers = {\n",
    "        # 'authority': 'www.macys.com',\n",
    "        # 'accept': 'text/html,application/xhtml+xml,application/xml;q=0.9,image/webp,image/apng,/;q=0.8,application/signed-exchange;v=b3;q=0.9',\n",
    "        # 'accept-language': 'en-GB,en-US;q=0.9,en;q=0.8',\n",
    "        'user-agent': 'Mozilla/5.0 (Windows NT 10.0; Win64; x64) AppleWebKit/537.36 (KHTML, like Gecko) Chrome/118.0.0.0 Safari/537.36'\n",
    "    }\n",
    "\n",
    "    # Send a request to get the product information\n",
    "    response = requests.get(base_url, headers=headers)\n",
    "    \n",
    "    if response.status_code == 200:\n",
    "        soup = BeautifulSoup(response.text, 'html.parser')\n",
    "\n",
    "        # Extract product containers\n",
    "        product_containers = soup.find_all('div', class_='productThumbnail')\n",
    "\n",
    "        # Create a list to store product information\n",
    "        products = []\n",
    "\n",
    "        for container in product_containers:\n",
    "            # Extract image URL\n",
    "            img_element = container.find('img', class_='thumbnailImage')\n",
    "            image_url = img_element['src'] if img_element and 'src' in img_element.attrs else None\n",
    "\n",
    "            # Extract product URL\n",
    "            product_url_element = container.find('a', class_='productDescLink')\n",
    "            product_url = product_url_element['href'] if product_url_element else None\n",
    "\n",
    "            if image_url and product_url:\n",
    "                products.append({\n",
    "                    'image_url': image_url,\n",
    "                    'product_url': product_url\n",
    "                })\n",
    "\n",
    "        time.sleep(2)\n",
    "\n",
    "        return products\n",
    "\n",
    "    else:\n",
    "        print(f\"Failed to fetch data. Status code: {response.status_code}\")\n",
    "        return None\n"
   ]
  },
  {
   "cell_type": "code",
   "execution_count": 3,
   "metadata": {},
   "outputs": [],
   "source": [
    "from fastapi import FastAPI\n",
    "from fastapi.responses import JSONResponse\n",
    "\n",
    "app = FastAPI()\n",
    "\n",
    "@app.post(\"/get_product_info\")\n",
    "async def get_product_info(base_url:str):\n",
    "    # keywords = data.values()\n",
    "    \n",
    "    result = fetch_product_info(base_url)\n",
    "\n",
    "    if result:\n",
    "       return {\"products\": result}\n",
    "\n",
    "\n",
    "    return JSONResponse(content={\"message\": \"Failed to fetch data\"}, status_code=500)"
   ]
  },
  {
   "cell_type": "code",
   "execution_count": 4,
   "metadata": {},
   "outputs": [
    {
     "name": "stderr",
     "output_type": "stream",
     "text": [
      "t=2023-12-15T16:13:54-0500 lvl=warn msg=\"Your agent is deprecated. Please update at your earliest convenience.\" obj=tunnels.session extra=\"\\nWARNING: Usage of ngrok will soon require a verified account and authtoken.\\nSign up for an account: https://dashboard.ngrok.com/signup\\nInstall your authtoken: https://dashboard.ngrok.com/get-started/your-authtoken\"\n",
      "INFO:     Started server process [23036]\n",
      "INFO:     Waiting for application startup.\n",
      "INFO:     Application startup complete.\n",
      "INFO:     Uvicorn running on http://127.0.0.1:8000 (Press CTRL+C to quit)\n"
     ]
    },
    {
     "name": "stdout",
     "output_type": "stream",
     "text": [
      "Public URL: https://97ea-2601-19b-d81-6a0-d165-7c21-9710-fc51.ngrok.io\n",
      "INFO:     127.0.0.1:60142 - \"POST /image-search HTTP/1.1\" 404 Not Found\n",
      "INFO:     2601:19b:d81:6a0:d165:7c21:9710:fc51:0 - \"GET / HTTP/1.1\" 404 Not Found\n",
      "INFO:     2601:19b:d81:6a0:d165:7c21:9710:fc51:0 - \"GET /favicon.ico HTTP/1.1\" 404 Not Found\n",
      "INFO:     2601:19b:d81:6a0:d165:7c21:9710:fc51:0 - \"GET /docs HTTP/1.1\" 200 OK\n",
      "INFO:     127.0.0.1:60172 - \"GET /docs HTTP/1.1\" 200 OK\n",
      "INFO:     127.0.0.1:60172 - \"GET /openapi.json HTTP/1.1\" 200 OK\n",
      "INFO:     157.230.159.9:0 - \"GET / HTTP/1.1\" 404 Not Found\n",
      "INFO:     127.0.0.1:60173 - \"GET /docs HTTP/1.1\" 200 OK\n",
      "INFO:     127.0.0.1:60173 - \"GET /openapi.json HTTP/1.1\" 200 OK\n",
      "INFO:     2601:19b:d81:6a0:d165:7c21:9710:fc51:0 - \"GET / HTTP/1.1\" 404 Not Found\n",
      "INFO:     2601:19b:d81:6a0:d165:7c21:9710:fc51:0 - \"GET /docs HTTP/1.1\" 200 OK\n",
      "INFO:     2601:19b:d81:6a0:d165:7c21:9710:fc51:0 - \"GET /get_product_info HTTP/1.1\" 405 Method Not Allowed\n",
      "INFO:     2601:19b:d81:6a0:d165:7c21:9710:fc51:0 - \"GET /image-search HTTP/1.1\" 404 Not Found\n",
      "INFO:     2601:19b:d81:6a0:d165:7c21:9710:fc51:0 - \"GET /docs HTTP/1.1\" 200 OK\n",
      "INFO:     2601:19b:d81:6a0:d165:7c21:9710:fc51:0 - \"POST /get_product_info/image-search HTTP/1.1\" 404 Not Found\n",
      "INFO:     2601:19b:d81:6a0:d165:7c21:9710:fc51:0 - \"POST /image-search HTTP/1.1\" 404 Not Found\n",
      "INFO:     2601:19b:d81:6a0:d165:7c21:9710:fc51:0 - \"POST /get_product_info?base_url=https%3A%2F%2Fwww.macys.com%2Fshop%2Fsearch%3Fkeyword%3DWhite%2BDress+Shirt%2BSolid%2BMen HTTP/1.1\" 200 OK\n",
      "INFO:     2601:19b:d81:6a0:d165:7c21:9710:fc51:0 - \"POST /get_product_info?base_url=https%3A%2F%2Fwww.macys.com%2Fshop%2Fsearch%3Fkeyword%3DBeige%2BTrousers%2BSolid%2BMen HTTP/1.1\" 200 OK\n"
     ]
    }
   ],
   "source": [
    "ngrok_tunnel = ngrok.connect(8000)\n",
    "print('Public URL:', ngrok_tunnel.public_url)\n",
    "nest_asyncio.apply()\n",
    "uvicorn.run(app, port=8000)"
   ]
  },
  {
   "cell_type": "code",
   "execution_count": null,
   "metadata": {},
   "outputs": [],
   "source": []
  }
 ],
 "metadata": {
  "kernelspec": {
   "display_name": "adm4",
   "language": "python",
   "name": "python3"
  },
  "language_info": {
   "codemirror_mode": {
    "name": "ipython",
    "version": 3
   },
   "file_extension": ".py",
   "mimetype": "text/x-python",
   "name": "python",
   "nbconvert_exporter": "python",
   "pygments_lexer": "ipython3",
   "version": "3.9.0"
  }
 },
 "nbformat": 4,
 "nbformat_minor": 2
}
