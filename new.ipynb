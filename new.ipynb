{
 "cells": [
  {
   "cell_type": "code",
   "execution_count": 1,
   "metadata": {},
   "outputs": [
    {
     "ename": "ModuleNotFoundError",
     "evalue": "No module named 'diagram'",
     "output_type": "error",
     "traceback": [
      "\u001b[1;31m---------------------------------------------------------------------------\u001b[0m",
      "\u001b[1;31mModuleNotFoundError\u001b[0m                       Traceback (most recent call last)",
      "Cell \u001b[1;32mIn[1], line 1\u001b[0m\n\u001b[1;32m----> 1\u001b[0m \u001b[38;5;28;01mfrom\u001b[39;00m \u001b[38;5;21;01mdiagram\u001b[39;00m \u001b[38;5;28;01mimport\u001b[39;00m Diagram, Node, Edge\n\u001b[0;32m      3\u001b[0m \u001b[38;5;66;03m# Define the nodes\u001b[39;00m\n\u001b[0;32m      4\u001b[0m user_node \u001b[38;5;241m=\u001b[39m Node(\u001b[38;5;124m\"\u001b[39m\u001b[38;5;124mUser\u001b[39m\u001b[38;5;124m\"\u001b[39m)\n",
      "\u001b[1;31mModuleNotFoundError\u001b[0m: No module named 'diagram'"
     ]
    }
   ],
   "source": [
    "from diagram import Diagram, Node, Edge\n",
    "\n",
    "# Define the nodes\n",
    "user_node = Node(\"User\")\n",
    "query_node = Node(\"Query\")\n",
    "gpt4_node = Node(\"GPT-4 Model\")\n",
    "annotations_node = Node(\"Annotations/Keywords\")\n",
    "link_generator_node = Node(\"Link Generator Script\")\n",
    "search_link_node = Node(\"Search Query Link\")\n",
    "beautiful_soup_node = Node(\"Beautiful Soup Script\")\n",
    "product_links_node = Node(\"Products Links\")\n",
    "streamlit_node = Node(\"Streamlit App\")\n",
    "\n",
    "# Define the edges\n",
    "user_to_query = Edge(user_node, query_node, label=\"Enters\")\n",
    "query_to_gpt4 = Edge(query_node, gpt4_node, label=\"Sent\")\n",
    "gpt4_to_annotations = Edge(gpt4_node, annotations_node, label=\"Generates\")\n",
    "annotations_to_link_generator = Edge(annotations_node, link_generator_node, label=\"Input\")\n",
    "link_generator_to_search_link = Edge(link_generator_node, search_link_node, label=\"Creates\")\n",
    "search_link_to_beautiful_soup = Edge(search_link_node, beautiful_soup_node, label=\"Input\")\n",
    "beautiful_soup_to_product_links = Edge(beautiful_soup_node, product_links_node, label=\"Analyzes\")\n",
    "product_links_to_streamlit = Edge(product_links_node, streamlit_node, label=\"Displays\")\n",
    "\n",
    "# Create the diagram\n",
    "diagram = Diagram(show=True)\n",
    "diagram.add_nodes([user_node, query_node, gpt4_node, annotations_node, link_generator_node, search_link_node, beautiful_soup_node, product_links_node, streamlit_node])\n",
    "diagram.add_edges([user_to_query, query_to_gpt4, gpt4_to_annotations, annotations_to_link_generator,\n",
    "                   link_generator_to_search_link, search_link_to_beautiful_soup, beautiful_soup_to_product_links, product_links_to_streamlit])\n",
    "\n",
    "# Customize the diagram\n",
    "diagram.set_title(\"Architecture of Product Search System\")\n",
    "diagram.set_node_font(size=14)\n",
    "diagram.set_edge_font(size=12)\n",
    "diagram.set_layout('dot')\n",
    "\n",
    "# Save the diagram\n",
    "diagram.save(\"product_search_architecture.png\")\n"
   ]
  },
  {
   "cell_type": "code",
   "execution_count": null,
   "metadata": {},
   "outputs": [],
   "source": []
  }
 ],
 "metadata": {
  "kernelspec": {
   "display_name": "admp",
   "language": "python",
   "name": "python3"
  },
  "language_info": {
   "codemirror_mode": {
    "name": "ipython",
    "version": 3
   },
   "file_extension": ".py",
   "mimetype": "text/x-python",
   "name": "python",
   "nbconvert_exporter": "python",
   "pygments_lexer": "ipython3",
   "version": "3.9.0"
  }
 },
 "nbformat": 4,
 "nbformat_minor": 2
}
